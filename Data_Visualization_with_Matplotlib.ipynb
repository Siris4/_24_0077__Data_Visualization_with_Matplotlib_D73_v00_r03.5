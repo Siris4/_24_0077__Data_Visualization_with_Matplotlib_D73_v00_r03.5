{
 "cells": [
  {
   "cell_type": "code",
   "execution_count": 15,
   "id": "9952fbd4-4476-48a6-a59e-961e89f8e617",
   "metadata": {},
   "outputs": [
    {
     "name": "stdout",
     "output_type": "stream",
     "text": [
      "(1991, 3)\n",
      "                  DATE         TAG  POSTS\n",
      "0  2008-07-01 00:00:00          c#      3\n",
      "1  2008-08-01 00:00:00    assembly      8\n",
      "2  2008-08-01 00:00:00  javascript    162\n",
      "3  2008-08-01 00:00:00           c     85\n",
      "4  2008-08-01 00:00:00      python    124\n"
     ]
    }
   ],
   "source": [
    "import pandas as pd\n",
    "import os\n",
    "\n",
    "# Change the working directory\n",
    "os.chdir('C:\\\\Users\\\\Siris\\\\Desktop\\\\GitHub Projects 100 Days NewB\\\\_24_0077__Day73_Data_Visualization_with_Matplotlib__240812\\\\NewProject\\\\r00-r09 START\\\\r00_env_START')\n",
    "\n",
    "# Load the CSV file into a DataFrame\n",
    "df = pd.read_csv('QueryResults.csv')\n",
    "\n",
    "# Rename the columns\n",
    "df.columns = ['DATE', 'TAG', 'POSTS']\n",
    "\n",
    "print(df.shape)\n",
    "\n",
    "# Verify the changes\n",
    "print(df.head())"
   ]
  },
  {
   "cell_type": "code",
   "execution_count": null,
   "id": "0d0d9d84-facc-44c3-ac84-4e184334afba",
   "metadata": {},
   "outputs": [],
   "source": []
  }
 ],
 "metadata": {
  "kernelspec": {
   "display_name": "Python 3 (ipykernel)",
   "language": "python",
   "name": "python3"
  },
  "language_info": {
   "codemirror_mode": {
    "name": "ipython",
    "version": 3
   },
   "file_extension": ".py",
   "mimetype": "text/x-python",
   "name": "python",
   "nbconvert_exporter": "python",
   "pygments_lexer": "ipython3",
   "version": "3.12.4"
  }
 },
 "nbformat": 4,
 "nbformat_minor": 5
}
